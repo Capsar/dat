{
 "cells": [
  {
   "attachments": {},
   "cell_type": "markdown",
   "metadata": {},
   "source": [
    "# Creating & Uploading python distribution\n",
    "https://cloud.google.com/vertex-ai/docs/training/create-python-pre-built-container"
   ]
  },
  {
   "cell_type": "code",
   "execution_count": 131,
   "metadata": {},
   "outputs": [
    {
     "name": "stdout",
     "output_type": "stream",
     "text": [
      "running sdist\n",
      "running egg_info\n",
      "creating trainer.egg-info\n",
      "writing trainer.egg-info\\PKG-INFO\n",
      "writing dependency_links to trainer.egg-info\\dependency_links.txt\n",
      "writing requirements to trainer.egg-info\\requires.txt\n",
      "writing top-level names to trainer.egg-info\\top_level.txt\n",
      "writing manifest file 'trainer.egg-info\\SOURCES.txt'\n",
      "reading manifest file 'trainer.egg-info\\SOURCES.txt'\n",
      "writing manifest file 'trainer.egg-info\\SOURCES.txt'\n",
      "running check\n",
      "creating trainer-0.1\n",
      "creating trainer-0.1\\trainer\n",
      "creating trainer-0.1\\trainer.egg-info\n",
      "creating trainer-0.1\\trainer\\dat\n",
      "copying files to trainer-0.1...\n",
      "copying README.md -> trainer-0.1\n",
      "copying setup.py -> trainer-0.1\n",
      "copying trainer\\__init__.py -> trainer-0.1\\trainer\n",
      "copying trainer\\task.py -> trainer-0.1\\trainer\n",
      "copying trainer.egg-info\\PKG-INFO -> trainer-0.1\\trainer.egg-info\n",
      "copying trainer.egg-info\\SOURCES.txt -> trainer-0.1\\trainer.egg-info\n",
      "copying trainer.egg-info\\dependency_links.txt -> trainer-0.1\\trainer.egg-info\n",
      "copying trainer.egg-info\\requires.txt -> trainer-0.1\\trainer.egg-info\n",
      "copying trainer.egg-info\\top_level.txt -> trainer-0.1\\trainer.egg-info\n",
      "copying trainer\\dat\\__init__.py -> trainer-0.1\\trainer\\dat\n",
      "copying trainer\\dat\\attack.py -> trainer-0.1\\trainer\\dat\n",
      "copying trainer\\dat\\cifar_resnet18.py -> trainer-0.1\\trainer\\dat\n",
      "copying trainer\\dat\\dataset.py -> trainer-0.1\\trainer\\dat\n",
      "copying trainer\\dat\\eval.py -> trainer-0.1\\trainer\\dat\n",
      "copying trainer\\dat\\lamb.py -> trainer-0.1\\trainer\\dat\n",
      "copying trainer\\dat\\main.py -> trainer-0.1\\trainer\\dat\n",
      "copying trainer\\dat\\models.py -> trainer-0.1\\trainer\\dat\n",
      "copying trainer\\dat\\quantization.py -> trainer-0.1\\trainer\\dat\n",
      "copying trainer\\dat\\utils.py -> trainer-0.1\\trainer\\dat\n",
      "copying trainer\\dat\\wide_resnet.py -> trainer-0.1\\trainer\\dat\n",
      "Writing trainer-0.1\\setup.cfg\n",
      "Creating tar archive\n",
      "removing 'trainer-0.1' (and everything under it)\n"
     ]
    }
   ],
   "source": [
    "!python setup.py sdist"
   ]
  },
  {
   "cell_type": "code",
   "execution_count": 132,
   "metadata": {},
   "outputs": [
    {
     "name": "stderr",
     "output_type": "stream",
     "text": [
      "Copying file://dist\\trainer-0.1.tar.gz [Content-Type=application/x-tar]...\n",
      "/ [0 files][    0.0 B/ 15.1 KiB]                                                \n",
      "/ [1 files][ 15.1 KiB/ 15.1 KiB]                                                \n",
      "\n",
      "Operation completed over 1 objects/15.1 KiB.                                     \n"
     ]
    }
   ],
   "source": [
    "#!gcloud storage cp dist/dat_package-0.1.tar.gz gs://dat-package-bucket\n",
    "!gsutil cp dist/trainer-0.1.tar.gz gs://dat-project-bucket/dat-package/"
   ]
  },
  {
   "attachments": {},
   "cell_type": "markdown",
   "metadata": {},
   "source": [
    "# Creating CustomJob\n",
    "https://cloud.google.com/vertex-ai/docs/training/create-custom-job#create_custom_job-gcloud"
   ]
  },
  {
   "attachments": {},
   "cell_type": "markdown",
   "metadata": {},
   "source": [
    "# Operationalize Distributed Training with PyTorch on Google Cloud\n",
    "https://www.youtube.com/watch?v=kXbDEmn2XOw\n",
    "\n",
    "Pre-built-containers:\n",
    "https://cloud.google.com/vertex-ai/docs/training/pre-built-containers#pytorch\n",
    "\n",
    "GPUs:\n",
    "https://cloud.google.com/compute/docs/gpus\n",
    "https://cloud.google.com/compute/gpus-pricing\n",
    "https://cloud.google.com/vertex-ai/docs/training/configure-compute#gpu-compatibility-table"
   ]
  },
  {
   "cell_type": "code",
   "execution_count": null,
   "metadata": {},
   "outputs": [],
   "source": [
    "#!pip install google-cloud-aiplatform"
   ]
  },
  {
   "cell_type": "code",
   "execution_count": null,
   "metadata": {},
   "outputs": [],
   "source": [
    "from google.cloud import aiplatform\n",
    "\n",
    "project_id = 'sdml-dat'\n",
    "region = 'us-central1' #TODO: change to better region\n",
    "bucket_name = 'dat-project-bucket'\n",
    "package_uri = f'gs://{bucket_name}/dat-package/trainer-0.1.tar.gz'\n",
    "\n",
    "# Initialize Vertex AI SDK\n",
    "aiplatform.init(project=project_id, location=region, staging_bucket=bucket_name)\n",
    "\n",
    "# Define worker pool spec\n",
    "worker_pool_specs =  [\n",
    "    {\n",
    "        \"machine_spec\": {\n",
    "            \"machine_type\": \"n1-standard-4\",\n",
    "        },\n",
    "        \"replica_count\": 1,  # Number of masters\n",
    "        \"python_package_spec\": {\n",
    "            \"executor_image_uri\": \"europe-docker.pkg.dev/vertex-ai/training/pytorch-gpu.1-13.py310:latest\",\n",
    "            \"package_uris\": [package_uri],\n",
    "            \"python_module\": \"trainer.task\",\n",
    "            \"args\": [\n",
    "                \"--gcloud=True\",\n",
    "                \"--dataset-path=/gcs/dat-project-bucket/datasets/\",\n",
    "                \"--output-dir=/gcs/dat-project-bucket/dat-outputs/\"\n",
    "            ],\n",
    "        },\n",
    "    }\n",
    "    ,\n",
    "    {\n",
    "        \"machine_spec\": {\n",
    "            \"machine_type\": \"n1-standard-4\",\n",
    "            # \"accelerator_type\": \"NVIDIA_TESLA_K80\",\n",
    "            # \"accelerator_count\": 2,\n",
    "        },\n",
    "        \"replica_count\": 2,  # Number of workers\n",
    "        \"python_package_spec\": {\n",
    "            \"executor_image_uri\": \"europe-docker.pkg.dev/vertex-ai/training/pytorch-gpu.1-13.py310:latest\",\n",
    "            \"package_uris\": [package_uri],\n",
    "            \"python_module\": \"trainer.task\",\n",
    "            \"args\": [\n",
    "                \"--gcloud=True\",\n",
    "                \"--dataset-path=/gcs/dat-project-bucket/datasets/\",\n",
    "                \"--output-dir=/gcs/dat-project-bucket/dat-outputs/\"\n",
    "            ],\n",
    "        },\n",
    "    },\n",
    "]\n",
    "\n",
    "# Define job name\n",
    "job_name = 'dat-custom-cpu-pytorch-job'\n",
    "\n",
    "# Create a custom job\n",
    "job = aiplatform.CustomJob(\n",
    "    display_name=job_name,\n",
    "    worker_pool_specs=worker_pool_specs,\n",
    ")\n",
    "\n",
    "# Launch the job\n",
    "job.run(sync=True)\n",
    "\n",
    "print(f\"Job {job_name} has been launched.\")"
   ]
  },
  {
   "cell_type": "code",
   "execution_count": null,
   "metadata": {},
   "outputs": [],
   "source": []
  },
  {
   "cell_type": "code",
   "execution_count": null,
   "metadata": {},
   "outputs": [],
   "source": []
  },
  {
   "cell_type": "code",
   "execution_count": null,
   "metadata": {},
   "outputs": [],
   "source": []
  }
 ],
 "metadata": {
  "kernelspec": {
   "display_name": "seminar_dml_dat",
   "language": "python",
   "name": "python3"
  },
  "language_info": {
   "codemirror_mode": {
    "name": "ipython",
    "version": 3
   },
   "file_extension": ".py",
   "mimetype": "text/x-python",
   "name": "python",
   "nbconvert_exporter": "python",
   "pygments_lexer": "ipython3",
   "version": "3.10.11"
  },
  "orig_nbformat": 4
 },
 "nbformat": 4,
 "nbformat_minor": 2
}
