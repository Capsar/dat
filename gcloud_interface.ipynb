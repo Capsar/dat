{
 "cells": [
  {
   "attachments": {},
   "cell_type": "markdown",
   "metadata": {},
   "source": [
    "# Creating & Uploading python distribution\n",
    "https://cloud.google.com/vertex-ai/docs/training/create-python-pre-built-container"
   ]
  },
  {
   "cell_type": "code",
   "execution_count": 112,
   "metadata": {},
   "outputs": [
    {
     "name": "stdout",
     "output_type": "stream",
     "text": [
      "running sdist\n",
      "running egg_info\n",
      "writing dat_package.egg-info\\PKG-INFO\n",
      "writing dependency_links to dat_package.egg-info\\dependency_links.txt\n",
      "writing requirements to dat_package.egg-info\\requires.txt\n",
      "writing top-level names to dat_package.egg-info\\top_level.txt\n",
      "reading manifest file 'dat_package.egg-info\\SOURCES.txt'\n",
      "writing manifest file 'dat_package.egg-info\\SOURCES.txt'\n",
      "running check\n",
      "creating dat-package-0.1\n",
      "creating dat-package-0.1\\dat_package.egg-info\n",
      "creating dat-package-0.1\\trainer\n",
      "creating dat-package-0.1\\trainer\\dat\n",
      "copying files to dat-package-0.1...\n",
      "copying README.md -> dat-package-0.1\n",
      "copying setup.py -> dat-package-0.1\n",
      "copying dat_package.egg-info\\PKG-INFO -> dat-package-0.1\\dat_package.egg-info\n",
      "copying dat_package.egg-info\\SOURCES.txt -> dat-package-0.1\\dat_package.egg-info\n",
      "copying dat_package.egg-info\\dependency_links.txt -> dat-package-0.1\\dat_package.egg-info\n",
      "copying dat_package.egg-info\\requires.txt -> dat-package-0.1\\dat_package.egg-info\n",
      "copying dat_package.egg-info\\top_level.txt -> dat-package-0.1\\dat_package.egg-info\n",
      "copying trainer\\__init__.py -> dat-package-0.1\\trainer\n",
      "copying trainer\\task.py -> dat-package-0.1\\trainer\n",
      "copying trainer\\dat\\__init__.py -> dat-package-0.1\\trainer\\dat\n",
      "copying trainer\\dat\\attack.py -> dat-package-0.1\\trainer\\dat\n",
      "copying trainer\\dat\\cifar_resnet18.py -> dat-package-0.1\\trainer\\dat\n",
      "copying trainer\\dat\\dataset.py -> dat-package-0.1\\trainer\\dat\n",
      "copying trainer\\dat\\eval.py -> dat-package-0.1\\trainer\\dat\n",
      "copying trainer\\dat\\lamb.py -> dat-package-0.1\\trainer\\dat\n",
      "copying trainer\\dat\\main.py -> dat-package-0.1\\trainer\\dat\n",
      "copying trainer\\dat\\models.py -> dat-package-0.1\\trainer\\dat\n",
      "copying trainer\\dat\\quantization.py -> dat-package-0.1\\trainer\\dat\n",
      "copying trainer\\dat\\utils.py -> dat-package-0.1\\trainer\\dat\n",
      "copying trainer\\dat\\wide_resnet.py -> dat-package-0.1\\trainer\\dat\n",
      "Writing dat-package-0.1\\setup.cfg\n",
      "Creating tar archive\n",
      "removing 'dat-package-0.1' (and everything under it)\n"
     ]
    }
   ],
   "source": [
    "!python setup.py sdist"
   ]
  },
  {
   "cell_type": "code",
   "execution_count": 86,
   "metadata": {},
   "outputs": [
    {
     "name": "stderr",
     "output_type": "stream",
     "text": [
      "Traceback (most recent call last):\n",
      "  File \"c:\\Users\\caspa\\miniconda3\\envs\\seminar_dml_dat\\lib\\runpy.py\", line 196, in _run_module_as_main\n",
      "    return _run_code(code, main_globals, None,\n",
      "  File \"c:\\Users\\caspa\\miniconda3\\envs\\seminar_dml_dat\\lib\\runpy.py\", line 86, in _run_code\n",
      "    exec(code, run_globals)\n",
      "  File \"c:\\Users\\caspa\\miniconda3\\envs\\seminar_dml_dat\\lib\\site-packages\\trainer\\task.py\", line 67, in <module>\n",
      "    global_noise_data = torch.zeros([512, 3, 224, 224]).cuda()\n",
      "  File \"c:\\Users\\caspa\\miniconda3\\envs\\seminar_dml_dat\\lib\\site-packages\\torch\\cuda\\__init__.py\", line 239, in _lazy_init\n",
      "    raise AssertionError(\"Torch not compiled with CUDA enabled\")\n",
      "AssertionError: Torch not compiled with CUDA enabled\n"
     ]
    }
   ],
   "source": [
    "!python -m trainer.task"
   ]
  },
  {
   "cell_type": "code",
   "execution_count": 113,
   "metadata": {},
   "outputs": [
    {
     "name": "stderr",
     "output_type": "stream",
     "text": [
      "Copying file://dist\\dat-package-0.1.tar.gz [Content-Type=application/x-tar]...\n",
      "/ [0 files][    0.0 B/ 14.9 KiB]                                                \n",
      "/ [1 files][ 14.9 KiB/ 14.9 KiB]                                                \n",
      "\n",
      "Operation completed over 1 objects/14.9 KiB.                                     \n"
     ]
    }
   ],
   "source": [
    "#!gcloud storage cp dist/dat_package-0.1.tar.gz gs://dat-package-bucket\n",
    "!gsutil cp dist/dat-package-0.1.tar.gz gs://dat-project-bucket/dat-package/"
   ]
  },
  {
   "attachments": {},
   "cell_type": "markdown",
   "metadata": {},
   "source": [
    "# Creating CustomJob\n",
    "https://cloud.google.com/vertex-ai/docs/training/create-custom-job#create_custom_job-gcloud"
   ]
  },
  {
   "attachments": {},
   "cell_type": "markdown",
   "metadata": {},
   "source": [
    "# Operationalize Distributed Training with PyTorch on Google Cloud\n",
    "https://www.youtube.com/watch?v=kXbDEmn2XOw\n",
    "\n",
    "Pre-built-containers:\n",
    "https://cloud.google.com/vertex-ai/docs/training/pre-built-containers#pytorch\n",
    "\n",
    "GPUs:\n",
    "https://cloud.google.com/compute/docs/gpus\n",
    "https://cloud.google.com/compute/gpus-pricing\n",
    "https://cloud.google.com/vertex-ai/docs/training/configure-compute#gpu-compatibility-table"
   ]
  },
  {
   "cell_type": "code",
   "execution_count": null,
   "metadata": {},
   "outputs": [],
   "source": [
    "#!pip install google-cloud-aiplatform"
   ]
  },
  {
   "cell_type": "code",
   "execution_count": 114,
   "metadata": {},
   "outputs": [
    {
     "name": "stdout",
     "output_type": "stream",
     "text": [
      "Creating CustomJob\n",
      "CustomJob created. Resource name: projects/65830871515/locations/us-central1/customJobs/311184742965837824\n",
      "To use this CustomJob in another session:\n",
      "custom_job = aiplatform.CustomJob.get('projects/65830871515/locations/us-central1/customJobs/311184742965837824')\n",
      "View Custom Job:\n",
      "https://console.cloud.google.com/ai/platform/locations/us-central1/training/311184742965837824?project=65830871515\n",
      "CustomJob projects/65830871515/locations/us-central1/customJobs/311184742965837824 current state:\n",
      "JobState.JOB_STATE_PENDING\n",
      "CustomJob projects/65830871515/locations/us-central1/customJobs/311184742965837824 current state:\n",
      "JobState.JOB_STATE_PENDING\n",
      "CustomJob projects/65830871515/locations/us-central1/customJobs/311184742965837824 current state:\n",
      "JobState.JOB_STATE_RUNNING\n",
      "CustomJob projects/65830871515/locations/us-central1/customJobs/311184742965837824 current state:\n",
      "JobState.JOB_STATE_RUNNING\n",
      "CustomJob projects/65830871515/locations/us-central1/customJobs/311184742965837824 current state:\n",
      "JobState.JOB_STATE_RUNNING\n",
      "CustomJob projects/65830871515/locations/us-central1/customJobs/311184742965837824 current state:\n",
      "JobState.JOB_STATE_RUNNING\n",
      "CustomJob projects/65830871515/locations/us-central1/customJobs/311184742965837824 current state:\n",
      "JobState.JOB_STATE_RUNNING\n",
      "CustomJob projects/65830871515/locations/us-central1/customJobs/311184742965837824 current state:\n",
      "JobState.JOB_STATE_RUNNING\n",
      "CustomJob projects/65830871515/locations/us-central1/customJobs/311184742965837824 current state:\n",
      "JobState.JOB_STATE_FAILED\n"
     ]
    },
    {
     "ename": "RuntimeError",
     "evalue": "Job failed with:\ncode: 3\nmessage: \"The replica workerpool0-0 exited with a non-zero status of 1. Termination reason: Error. \\nTraceback (most recent call last):\\n  File \\\"/opt/conda/lib/python3.10/runpy.py\\\", line 196, in _run_module_as_main\\n    return _run_code(code, main_globals, None,\\n  File \\\"/opt/conda/lib/python3.10/runpy.py\\\", line 86, in _run_code\\n    exec(code, run_globals)\\n  File \\\"/root/.local/lib/python3.10/site-packages/trainer/task.py\\\", line 308, in <module>\\n    main()\\n  File \\\"/root/.local/lib/python3.10/site-packages/trainer/task.py\\\", line 236, in main\\n    global_noise_data = torch.zeros([batch_size, 3, 32, 32]).cuda()\\n  File \\\"/opt/conda/lib/python3.10/site-packages/torch/cuda/__init__.py\\\", line 229, in _lazy_init\\n    torch._C._cuda_init()\\nRuntimeError: Found no NVIDIA driver on your system. Please check that you have an NVIDIA GPU and installed a driver from http://www.nvidia.com/Download/index.aspx\\n\\nThe replica workerpool1-0 exited with a non-zero status of 1. Termination reason: Error. \\nTraceback (most recent call last):\\n  File \\\"/opt/conda/lib/python3.10/runpy.py\\\", line 196, in _run_module_as_main\\n    return _run_code(code, main_globals, None,\\n  File \\\"/opt/conda/lib/python3.10/runpy.py\\\", line 86, in _run_code\\n    exec(code, run_globals)\\n  File \\\"/root/.local/lib/python3.10/site-packages/trainer/task.py\\\", line 308, in <module>\\n    main()\\n  File \\\"/root/.local/lib/python3.10/site-packages/trainer/task.py\\\", line 236, in main\\n    global_noise_data = torch.zeros([batch_size, 3, 32, 32]).cuda()\\n  File \\\"/opt/conda/lib/python3.10/site-packages/torch/cuda/__init__.py\\\", line 229, in _lazy_init\\n    torch._C._cuda_init()\\nRuntimeError: Found no NVIDIA driver on your system. Please check that you have an NVIDIA GPU and installed a driver from http://www.nvidia.com/Download/index.aspx\\n\\nThe replica workerpool1-1 exited with a non-zero status of 1. Termination reason: Error. \\nTraceback (most recent call last):\\n  File \\\"/opt/conda/lib/python3.10/runpy.py\\\", line 196, in _run_module_as_main\\n    return _run_code(code, main_globals, None,\\n  File \\\"/opt/conda/lib/python3.10/runpy.py\\\", line 86, in _run_code\\n    exec(code, run_globals)\\n  File \\\"/root/.local/lib/python3.10/site-packages/trainer/task.py\\\", line 308, in <module>\\n    main()\\n  File \\\"/root/.local/lib/python3.10/site-packages/trainer/task.py\\\", line 236, in main\\n    global_noise_data = torch.zeros([batch_size, 3, 32, 32]).cuda()\\n  File \\\"/opt/conda/lib/python3.10/site-packages/torch/cuda/__init__.py\\\", line 229, in _lazy_init\\n    torch._C._cuda_init()\\nRuntimeError: Found no NVIDIA driver on your system. Please check that you have an NVIDIA GPU and installed a driver from http://www.nvidia.com/Download/index.aspx\\n\\nTo find out more about why your job exited please check the logs: https://console.cloud.google.com/logs/viewer?project=65830871515&resource=ml_job%2Fjob_id%2F311184742965837824&advancedFilter=resource.type%3D%22ml_job%22%0Aresource.labels.job_id%3D%22311184742965837824%22\"\n",
     "output_type": "error",
     "traceback": [
      "\u001b[1;31m---------------------------------------------------------------------------\u001b[0m",
      "\u001b[1;31mRuntimeError\u001b[0m                              Traceback (most recent call last)",
      "Cell \u001b[1;32mIn[114], line 58\u001b[0m\n\u001b[0;32m     52\u001b[0m job \u001b[39m=\u001b[39m aiplatform\u001b[39m.\u001b[39mCustomJob(\n\u001b[0;32m     53\u001b[0m     display_name\u001b[39m=\u001b[39mjob_name,\n\u001b[0;32m     54\u001b[0m     worker_pool_specs\u001b[39m=\u001b[39mworker_pool_specs,\n\u001b[0;32m     55\u001b[0m )\n\u001b[0;32m     57\u001b[0m \u001b[39m# Launch the job\u001b[39;00m\n\u001b[1;32m---> 58\u001b[0m job\u001b[39m.\u001b[39;49mrun(sync\u001b[39m=\u001b[39;49m\u001b[39mTrue\u001b[39;49;00m)\n\u001b[0;32m     60\u001b[0m \u001b[39mprint\u001b[39m(\u001b[39mf\u001b[39m\u001b[39m\"\u001b[39m\u001b[39mJob \u001b[39m\u001b[39m{\u001b[39;00mjob_name\u001b[39m}\u001b[39;00m\u001b[39m has been launched.\u001b[39m\u001b[39m\"\u001b[39m)\n",
      "File \u001b[1;32mc:\\Users\\caspa\\miniconda3\\envs\\seminar_dml_dat\\lib\\site-packages\\google\\cloud\\aiplatform\\jobs.py:1683\u001b[0m, in \u001b[0;36mCustomJob.run\u001b[1;34m(self, service_account, network, timeout, restart_job_on_worker_restart, enable_web_access, experiment, experiment_run, tensorboard, sync, create_request_timeout)\u001b[0m\n\u001b[0;32m   1624\u001b[0m \u001b[39m\u001b[39m\u001b[39m\"\"\"Run this configured CustomJob.\u001b[39;00m\n\u001b[0;32m   1625\u001b[0m \n\u001b[0;32m   1626\u001b[0m \u001b[39mArgs:\u001b[39;00m\n\u001b[1;32m   (...)\u001b[0m\n\u001b[0;32m   1679\u001b[0m \u001b[39m        Optional. The timeout for the create request in seconds.\u001b[39;00m\n\u001b[0;32m   1680\u001b[0m \u001b[39m\"\"\"\u001b[39;00m\n\u001b[0;32m   1681\u001b[0m network \u001b[39m=\u001b[39m network \u001b[39mor\u001b[39;00m initializer\u001b[39m.\u001b[39mglobal_config\u001b[39m.\u001b[39mnetwork\n\u001b[1;32m-> 1683\u001b[0m \u001b[39mself\u001b[39;49m\u001b[39m.\u001b[39;49m_run(\n\u001b[0;32m   1684\u001b[0m     service_account\u001b[39m=\u001b[39;49mservice_account,\n\u001b[0;32m   1685\u001b[0m     network\u001b[39m=\u001b[39;49mnetwork,\n\u001b[0;32m   1686\u001b[0m     timeout\u001b[39m=\u001b[39;49mtimeout,\n\u001b[0;32m   1687\u001b[0m     restart_job_on_worker_restart\u001b[39m=\u001b[39;49mrestart_job_on_worker_restart,\n\u001b[0;32m   1688\u001b[0m     enable_web_access\u001b[39m=\u001b[39;49menable_web_access,\n\u001b[0;32m   1689\u001b[0m     experiment\u001b[39m=\u001b[39;49mexperiment,\n\u001b[0;32m   1690\u001b[0m     experiment_run\u001b[39m=\u001b[39;49mexperiment_run,\n\u001b[0;32m   1691\u001b[0m     tensorboard\u001b[39m=\u001b[39;49mtensorboard,\n\u001b[0;32m   1692\u001b[0m     sync\u001b[39m=\u001b[39;49msync,\n\u001b[0;32m   1693\u001b[0m     create_request_timeout\u001b[39m=\u001b[39;49mcreate_request_timeout,\n\u001b[0;32m   1694\u001b[0m )\n",
      "File \u001b[1;32mc:\\Users\\caspa\\miniconda3\\envs\\seminar_dml_dat\\lib\\site-packages\\google\\cloud\\aiplatform\\base.py:814\u001b[0m, in \u001b[0;36moptional_sync.<locals>.optional_run_in_thread.<locals>.wrapper\u001b[1;34m(*args, **kwargs)\u001b[0m\n\u001b[0;32m    812\u001b[0m     \u001b[39mif\u001b[39;00m \u001b[39mself\u001b[39m:\n\u001b[0;32m    813\u001b[0m         VertexAiResourceNounWithFutureManager\u001b[39m.\u001b[39mwait(\u001b[39mself\u001b[39m)\n\u001b[1;32m--> 814\u001b[0m     \u001b[39mreturn\u001b[39;00m method(\u001b[39m*\u001b[39margs, \u001b[39m*\u001b[39m\u001b[39m*\u001b[39mkwargs)\n\u001b[0;32m    816\u001b[0m \u001b[39m# callbacks to call within the Future (in same Thread)\u001b[39;00m\n\u001b[0;32m    817\u001b[0m internal_callbacks \u001b[39m=\u001b[39m []\n",
      "File \u001b[1;32mc:\\Users\\caspa\\miniconda3\\envs\\seminar_dml_dat\\lib\\site-packages\\google\\cloud\\aiplatform\\jobs.py:1777\u001b[0m, in \u001b[0;36mCustomJob._run\u001b[1;34m(self, service_account, network, timeout, restart_job_on_worker_restart, enable_web_access, experiment, experiment_run, tensorboard, sync, create_request_timeout)\u001b[0m\n\u001b[0;32m   1710\u001b[0m \u001b[39m\u001b[39m\u001b[39m\"\"\"Helper method to ensure network synchronization and to run the configured CustomJob.\u001b[39;00m\n\u001b[0;32m   1711\u001b[0m \n\u001b[0;32m   1712\u001b[0m \u001b[39mArgs:\u001b[39;00m\n\u001b[1;32m   (...)\u001b[0m\n\u001b[0;32m   1763\u001b[0m \u001b[39m        Optional. The timeout for the create request in seconds.\u001b[39;00m\n\u001b[0;32m   1764\u001b[0m \u001b[39m\"\"\"\u001b[39;00m\n\u001b[0;32m   1765\u001b[0m \u001b[39mself\u001b[39m\u001b[39m.\u001b[39msubmit(\n\u001b[0;32m   1766\u001b[0m     service_account\u001b[39m=\u001b[39mservice_account,\n\u001b[0;32m   1767\u001b[0m     network\u001b[39m=\u001b[39mnetwork,\n\u001b[1;32m   (...)\u001b[0m\n\u001b[0;32m   1774\u001b[0m     create_request_timeout\u001b[39m=\u001b[39mcreate_request_timeout,\n\u001b[0;32m   1775\u001b[0m )\n\u001b[1;32m-> 1777\u001b[0m \u001b[39mself\u001b[39;49m\u001b[39m.\u001b[39;49m_block_until_complete()\n",
      "File \u001b[1;32mc:\\Users\\caspa\\miniconda3\\envs\\seminar_dml_dat\\lib\\site-packages\\google\\cloud\\aiplatform\\jobs.py:1087\u001b[0m, in \u001b[0;36m_RunnableJob._block_until_complete\u001b[1;34m(self)\u001b[0m\n\u001b[0;32m   1084\u001b[0m \u001b[39m# Error is only populated when the job state is\u001b[39;00m\n\u001b[0;32m   1085\u001b[0m \u001b[39m# JOB_STATE_FAILED or JOB_STATE_CANCELLED.\u001b[39;00m\n\u001b[0;32m   1086\u001b[0m \u001b[39mif\u001b[39;00m \u001b[39mself\u001b[39m\u001b[39m.\u001b[39m_gca_resource\u001b[39m.\u001b[39mstate \u001b[39min\u001b[39;00m _JOB_ERROR_STATES:\n\u001b[1;32m-> 1087\u001b[0m     \u001b[39mraise\u001b[39;00m \u001b[39mRuntimeError\u001b[39;00m(\u001b[39m\"\u001b[39m\u001b[39mJob failed with:\u001b[39m\u001b[39m\\n\u001b[39;00m\u001b[39m%s\u001b[39;00m\u001b[39m\"\u001b[39m \u001b[39m%\u001b[39m \u001b[39mself\u001b[39m\u001b[39m.\u001b[39m_gca_resource\u001b[39m.\u001b[39merror)\n\u001b[0;32m   1088\u001b[0m \u001b[39melse\u001b[39;00m:\n\u001b[0;32m   1089\u001b[0m     _LOGGER\u001b[39m.\u001b[39mlog_action_completed_against_resource(\u001b[39m\"\u001b[39m\u001b[39mrun\u001b[39m\u001b[39m\"\u001b[39m, \u001b[39m\"\u001b[39m\u001b[39mcompleted\u001b[39m\u001b[39m\"\u001b[39m, \u001b[39mself\u001b[39m)\n",
      "\u001b[1;31mRuntimeError\u001b[0m: Job failed with:\ncode: 3\nmessage: \"The replica workerpool0-0 exited with a non-zero status of 1. Termination reason: Error. \\nTraceback (most recent call last):\\n  File \\\"/opt/conda/lib/python3.10/runpy.py\\\", line 196, in _run_module_as_main\\n    return _run_code(code, main_globals, None,\\n  File \\\"/opt/conda/lib/python3.10/runpy.py\\\", line 86, in _run_code\\n    exec(code, run_globals)\\n  File \\\"/root/.local/lib/python3.10/site-packages/trainer/task.py\\\", line 308, in <module>\\n    main()\\n  File \\\"/root/.local/lib/python3.10/site-packages/trainer/task.py\\\", line 236, in main\\n    global_noise_data = torch.zeros([batch_size, 3, 32, 32]).cuda()\\n  File \\\"/opt/conda/lib/python3.10/site-packages/torch/cuda/__init__.py\\\", line 229, in _lazy_init\\n    torch._C._cuda_init()\\nRuntimeError: Found no NVIDIA driver on your system. Please check that you have an NVIDIA GPU and installed a driver from http://www.nvidia.com/Download/index.aspx\\n\\nThe replica workerpool1-0 exited with a non-zero status of 1. Termination reason: Error. \\nTraceback (most recent call last):\\n  File \\\"/opt/conda/lib/python3.10/runpy.py\\\", line 196, in _run_module_as_main\\n    return _run_code(code, main_globals, None,\\n  File \\\"/opt/conda/lib/python3.10/runpy.py\\\", line 86, in _run_code\\n    exec(code, run_globals)\\n  File \\\"/root/.local/lib/python3.10/site-packages/trainer/task.py\\\", line 308, in <module>\\n    main()\\n  File \\\"/root/.local/lib/python3.10/site-packages/trainer/task.py\\\", line 236, in main\\n    global_noise_data = torch.zeros([batch_size, 3, 32, 32]).cuda()\\n  File \\\"/opt/conda/lib/python3.10/site-packages/torch/cuda/__init__.py\\\", line 229, in _lazy_init\\n    torch._C._cuda_init()\\nRuntimeError: Found no NVIDIA driver on your system. Please check that you have an NVIDIA GPU and installed a driver from http://www.nvidia.com/Download/index.aspx\\n\\nThe replica workerpool1-1 exited with a non-zero status of 1. Termination reason: Error. \\nTraceback (most recent call last):\\n  File \\\"/opt/conda/lib/python3.10/runpy.py\\\", line 196, in _run_module_as_main\\n    return _run_code(code, main_globals, None,\\n  File \\\"/opt/conda/lib/python3.10/runpy.py\\\", line 86, in _run_code\\n    exec(code, run_globals)\\n  File \\\"/root/.local/lib/python3.10/site-packages/trainer/task.py\\\", line 308, in <module>\\n    main()\\n  File \\\"/root/.local/lib/python3.10/site-packages/trainer/task.py\\\", line 236, in main\\n    global_noise_data = torch.zeros([batch_size, 3, 32, 32]).cuda()\\n  File \\\"/opt/conda/lib/python3.10/site-packages/torch/cuda/__init__.py\\\", line 229, in _lazy_init\\n    torch._C._cuda_init()\\nRuntimeError: Found no NVIDIA driver on your system. Please check that you have an NVIDIA GPU and installed a driver from http://www.nvidia.com/Download/index.aspx\\n\\nTo find out more about why your job exited please check the logs: https://console.cloud.google.com/logs/viewer?project=65830871515&resource=ml_job%2Fjob_id%2F311184742965837824&advancedFilter=resource.type%3D%22ml_job%22%0Aresource.labels.job_id%3D%22311184742965837824%22\"\n"
     ]
    }
   ],
   "source": [
    "from google.cloud import aiplatform\n",
    "\n",
    "project_id = 'sdml-dat'\n",
    "region = 'us-central1' #TODO: change to better region\n",
    "bucket_name = 'dat-project-bucket'\n",
    "package_uri = f'gs://{bucket_name}/dat-package/dat-package-0.1.tar.gz'\n",
    "\n",
    "# Initialize Vertex AI SDK\n",
    "aiplatform.init(project=project_id, location=region, staging_bucket=bucket_name)\n",
    "\n",
    "# Define worker pool spec\n",
    "worker_pool_specs =  [\n",
    "    {\n",
    "        \"machine_spec\": {\n",
    "            \"machine_type\": \"n1-standard-4\",\n",
    "        },\n",
    "        \"replica_count\": 1,  # Number of masters\n",
    "        \"python_package_spec\": {\n",
    "            \"executor_image_uri\": \"europe-docker.pkg.dev/vertex-ai/training/pytorch-gpu.1-13.py310:latest\",\n",
    "            \"package_uris\": [package_uri],\n",
    "            \"python_module\": \"trainer.task\",\n",
    "            \"args\": [\n",
    "                \"--gcloud=True\",\n",
    "                \"--output-dir=/gcs/dat-project-bucket/dat-outputs/\"\n",
    "            ],\n",
    "        },\n",
    "    }\n",
    "    ,\n",
    "    {\n",
    "        \"machine_spec\": {\n",
    "            \"machine_type\": \"n1-standard-4\",\n",
    "            # \"accelerator_type\": \"NVIDIA_TESLA_K80\",\n",
    "            # \"accelerator_count\": 2,\n",
    "        },\n",
    "        \"replica_count\": 2,  # Number of workers\n",
    "        \"python_package_spec\": {\n",
    "            \"executor_image_uri\": \"europe-docker.pkg.dev/vertex-ai/training/pytorch-gpu.1-13.py310:latest\",\n",
    "            \"package_uris\": [package_uri],\n",
    "            \"python_module\": \"trainer.task\",\n",
    "            \"args\": [\n",
    "                \"--gcloud=True\",\n",
    "                \"--output-dir=/gcs/dat-project-bucket/dat-outputs/\"\n",
    "            ],\n",
    "        },\n",
    "    },\n",
    "]\n",
    "\n",
    "# Define job name\n",
    "job_name = 'dat-custom-pytorch-job'\n",
    "\n",
    "# Create a custom job\n",
    "job = aiplatform.CustomJob(\n",
    "    display_name=job_name,\n",
    "    worker_pool_specs=worker_pool_specs,\n",
    ")\n",
    "\n",
    "# Launch the job\n",
    "job.run(sync=True)\n",
    "\n",
    "print(f\"Job {job_name} has been launched.\")"
   ]
  },
  {
   "cell_type": "code",
   "execution_count": null,
   "metadata": {},
   "outputs": [],
   "source": []
  },
  {
   "cell_type": "code",
   "execution_count": null,
   "metadata": {},
   "outputs": [],
   "source": []
  },
  {
   "cell_type": "code",
   "execution_count": null,
   "metadata": {},
   "outputs": [],
   "source": []
  }
 ],
 "metadata": {
  "kernelspec": {
   "display_name": "seminar_dml_dat",
   "language": "python",
   "name": "python3"
  },
  "language_info": {
   "codemirror_mode": {
    "name": "ipython",
    "version": 3
   },
   "file_extension": ".py",
   "mimetype": "text/x-python",
   "name": "python",
   "nbconvert_exporter": "python",
   "pygments_lexer": "ipython3",
   "version": "3.10.11"
  },
  "orig_nbformat": 4
 },
 "nbformat": 4,
 "nbformat_minor": 2
}
