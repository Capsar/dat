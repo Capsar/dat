{
 "cells": [
  {
   "attachments": {},
   "cell_type": "markdown",
   "metadata": {},
   "source": [
    "# Creating & Uploading python distribution\n",
    "https://cloud.google.com/vertex-ai/docs/training/create-python-pre-built-container"
   ]
  },
  {
   "cell_type": "code",
   "execution_count": 5,
   "metadata": {},
   "outputs": [
    {
     "name": "stdout",
     "output_type": "stream",
     "text": [
      "running sdist\n",
      "running egg_info\n",
      "writing dat_profiler_trainer.egg-info\\PKG-INFO\n",
      "writing dependency_links to dat_profiler_trainer.egg-info\\dependency_links.txt\n",
      "writing requirements to dat_profiler_trainer.egg-info\\requires.txt\n",
      "writing top-level names to dat_profiler_trainer.egg-info\\top_level.txt\n",
      "reading manifest file 'dat_profiler_trainer.egg-info\\SOURCES.txt'\n",
      "writing manifest file 'dat_profiler_trainer.egg-info\\SOURCES.txt'\n",
      "running check\n",
      "creating dat-profiler-trainer-0.1\n",
      "creating dat-profiler-trainer-0.1\\dat_profiler_trainer.egg-info\n",
      "creating dat-profiler-trainer-0.1\\trainer\n",
      "creating dat-profiler-trainer-0.1\\trainer\\dat\n",
      "creating dat-profiler-trainer-0.1\\trainer\\dat\\compression\n",
      "copying files to dat-profiler-trainer-0.1...\n",
      "copying README.md -> dat-profiler-trainer-0.1\n",
      "copying setup.py -> dat-profiler-trainer-0.1\n",
      "copying dat_profiler_trainer.egg-info\\PKG-INFO -> dat-profiler-trainer-0.1\\dat_profiler_trainer.egg-info\n",
      "copying dat_profiler_trainer.egg-info\\SOURCES.txt -> dat-profiler-trainer-0.1\\dat_profiler_trainer.egg-info\n",
      "copying dat_profiler_trainer.egg-info\\dependency_links.txt -> dat-profiler-trainer-0.1\\dat_profiler_trainer.egg-info\n",
      "copying dat_profiler_trainer.egg-info\\requires.txt -> dat-profiler-trainer-0.1\\dat_profiler_trainer.egg-info\n",
      "copying dat_profiler_trainer.egg-info\\top_level.txt -> dat-profiler-trainer-0.1\\dat_profiler_trainer.egg-info\n",
      "copying trainer\\__init__.py -> dat-profiler-trainer-0.1\\trainer\n",
      "copying trainer\\task.py -> dat-profiler-trainer-0.1\\trainer\n",
      "copying trainer\\dat\\__init__.py -> dat-profiler-trainer-0.1\\trainer\\dat\n",
      "copying trainer\\dat\\attack.py -> dat-profiler-trainer-0.1\\trainer\\dat\n",
      "copying trainer\\dat\\cifar_resnet18.py -> dat-profiler-trainer-0.1\\trainer\\dat\n",
      "copying trainer\\dat\\dataset.py -> dat-profiler-trainer-0.1\\trainer\\dat\n",
      "copying trainer\\dat\\eval.py -> dat-profiler-trainer-0.1\\trainer\\dat\n",
      "copying trainer\\dat\\helpers.py -> dat-profiler-trainer-0.1\\trainer\\dat\n",
      "copying trainer\\dat\\lamb.py -> dat-profiler-trainer-0.1\\trainer\\dat\n",
      "copying trainer\\dat\\main.py -> dat-profiler-trainer-0.1\\trainer\\dat\n",
      "copying trainer\\dat\\models.py -> dat-profiler-trainer-0.1\\trainer\\dat\n",
      "copying trainer\\dat\\quantization.py -> dat-profiler-trainer-0.1\\trainer\\dat\n",
      "copying trainer\\dat\\utils.py -> dat-profiler-trainer-0.1\\trainer\\dat\n",
      "copying trainer\\dat\\wide_resnet.py -> dat-profiler-trainer-0.1\\trainer\\dat\n",
      "copying trainer\\dat\\compression\\__init__.py -> dat-profiler-trainer-0.1\\trainer\\dat\\compression\n",
      "copying trainer\\dat\\compression\\sparsification.py -> dat-profiler-trainer-0.1\\trainer\\dat\\compression\n",
      "Writing dat-profiler-trainer-0.1\\setup.cfg\n",
      "Creating tar archive\n",
      "removing 'dat-profiler-trainer-0.1' (and everything under it)\n"
     ]
    }
   ],
   "source": [
    "!python setup.py sdist"
   ]
  },
  {
   "cell_type": "code",
   "execution_count": 6,
   "metadata": {},
   "outputs": [
    {
     "name": "stderr",
     "output_type": "stream",
     "text": [
      "Copying file://dist\\dat-profiler-trainer-0.1.tar.gz [Content-Type=application/x-tar]...\n",
      "/ [0 files][    0.0 B/ 17.2 KiB]                                                \n",
      "/ [1 files][ 17.2 KiB/ 17.2 KiB]                                                \n",
      "\n",
      "Operation completed over 1 objects/17.2 KiB.                                     \n"
     ]
    }
   ],
   "source": [
    "#!gcloud storage cp dist/dat_package-0.1.tar.gz gs://dat-package-bucket\n",
    "!gsutil cp dist/dat-profiler-trainer-0.1.tar.gz gs://dat-project-bucket/dat-package/"
   ]
  },
  {
   "attachments": {},
   "cell_type": "markdown",
   "metadata": {},
   "source": [
    "# Creating CustomJob\n",
    "https://cloud.google.com/vertex-ai/docs/training/create-custom-job#create_custom_job-gcloud"
   ]
  },
  {
   "attachments": {},
   "cell_type": "markdown",
   "metadata": {},
   "source": [
    "# Operationalize Distributed Training with PyTorch on Google Cloud\n",
    "https://www.youtube.com/watch?v=kXbDEmn2XOw\n",
    "\n",
    "Pre-built-containers:\n",
    "https://cloud.google.com/vertex-ai/docs/training/pre-built-containers#pytorch\n",
    "\n",
    "GPUs:\n",
    "https://cloud.google.com/compute/docs/gpus\n",
    "https://cloud.google.com/compute/gpus-pricing\n",
    "https://cloud.google.com/vertex-ai/docs/training/configure-compute#gpu-compatibility-table"
   ]
  },
  {
   "cell_type": "code",
   "execution_count": 32,
   "metadata": {},
   "outputs": [],
   "source": [
    "#!pip install google-cloud-aiplatform"
   ]
  },
  {
   "cell_type": "code",
   "execution_count": 1,
   "metadata": {},
   "outputs": [
    {
     "name": "stdout",
     "output_type": "stream",
     "text": [
      "Collecting python-dotenv\n",
      "  Downloading python_dotenv-1.0.0-py3-none-any.whl (19 kB)\n",
      "Installing collected packages: python-dotenv\n",
      "Successfully installed python-dotenv-1.0.0\n"
     ]
    }
   ],
   "source": [
    "# !pip install python-dotenv"
   ]
  },
  {
   "cell_type": "code",
   "execution_count": null,
   "metadata": {},
   "outputs": [],
   "source": [
    "import os\n",
    "import datetime\n",
    "\n",
    "from google.cloud import aiplatform\n",
    "from dotenv import load_dotenv\n",
    "\n",
    "load_dotenv()\n",
    "\n",
    "project_id = 'sdml-dat'\n",
    "region = 'us-central1'\n",
    "bucket_name = 'dat-project-bucket'\n",
    "package_uri = f'gs://{bucket_name}/dat-package/dat-profiler-trainer-0.1.tar.gz'\n",
    "\n",
    "# Initialize Vertex AI SDK\n",
    "aiplatform.init(project=project_id, location=region, staging_bucket=bucket_name)\n",
    "\n",
    "# Define job name\n",
    "job_name = 'dat-custom-profiler-pytorch-job-chip'\n",
    "\n",
    "machine_type = 'n1-standard-4'\n",
    "accelerator_type = 'NVIDIA_TESLA_K80'\n",
    "accelerator_count = 1\n",
    "replica_count = 2\n",
    "dataset='cifar'\n",
    "batch_size=1024\n",
    "group_surfix = f'{datetime.datetime.now().strftime(\"%m-%d-%H-%M\")}'\n",
    "TELEGRAM_API_KEY = os.getenv('TELEGRAM_API_KEY')\n",
    "TELEGRAM_CHAT_ID = os.getenv('TELEGRAM_CHAT_ID')\n",
    "WANDB_API_KEY = os.getenv('WANDB_API_KEY')\n",
    "\n",
    "if TELEGRAM_API_KEY is None or TELEGRAM_CHAT_ID is None or WANDB_API_KEY is None:\n",
    "    raise ValueError('Missing either TELEGRAM or WANDB API KEY')\n",
    "\n",
    "environment_variables = {\n",
    "    'TELEGRAM_API_KEY': TELEGRAM_API_KEY,\n",
    "    'TELEGRAM_CHAT_ID': TELEGRAM_CHAT_ID,\n",
    "    'WANDB_API_KEY': WANDB_API_KEY,\n",
    "}\n",
    "\n",
    "# Define worker pool spec\n",
    "worker_pool_specs =  [\n",
    "    {\n",
    "        \"machine_spec\": {\n",
    "            \"machine_type\": machine_type,\n",
    "            \"accelerator_type\": accelerator_type,\n",
    "            \"accelerator_count\": accelerator_count,\n",
    "        },\n",
    "        \"replica_count\": 1,  # Number of masters\n",
    "        \"python_package_spec\": {\n",
    "            \"executor_image_uri\": \"europe-docker.pkg.dev/vertex-ai/training/pytorch-gpu.1-13.py310:latest\",\n",
    "            \"package_uris\": [package_uri],\n",
    "            \"python_module\": \"trainer.task\",\n",
    "            \"args\": [\n",
    "                \"--gcloud=True\",\n",
    "                \"--dataset-path=/gcs/dat-project-bucket/datasets/\",\n",
    "                \"--output-dir=/gcs/dat-project-bucket/dat-outputs/\",\n",
    "                f\"--batch-size={batch_size}\",\n",
    "                f\"--group_surfix={group_surfix}\",\n",
    "                f\"--dataset={dataset}\",\n",
    "                f\"--machine_type={machine_type}\",\n",
    "                f\"--accelerator_type={accelerator_type}\",\n",
    "                \"--dist-backend=nccl\",\n",
    "                \"--warmup-epochs=1\",\n",
    "                \"--num-epochs=2\",\n",
    "                \"--eval-epochs=1\",\n",
    "            ],\n",
    "            \"env\": [\n",
    "                    {'name': name, 'value': value}\n",
    "                    for name, value in environment_variables.items()\n",
    "            ],\n",
    "        },\n",
    "    }\n",
    "    ,\n",
    "    {\n",
    "        \"machine_spec\": {\n",
    "            \"machine_type\": machine_type,\n",
    "            \"accelerator_type\": accelerator_type,\n",
    "            \"accelerator_count\": accelerator_count,\n",
    "        },\n",
    "        \"replica_count\": replica_count,  # Number of workers\n",
    "        \"python_package_spec\": {\n",
    "            \"executor_image_uri\": \"europe-docker.pkg.dev/vertex-ai/training/pytorch-gpu.1-13.py310:latest\",\n",
    "            \"package_uris\": [package_uri],\n",
    "            \"python_module\": \"trainer.task\",\n",
    "            \"args\": [\n",
    "                \"--gcloud=True\",\n",
    "                \"--dataset-path=/gcs/dat-project-bucket/datasets/\",\n",
    "                \"--output-dir=/gcs/dat-project-bucket/dat-outputs/\",\n",
    "                f\"--batch-size={batch_size}\",\n",
    "                f\"--group_surfix={group_surfix}\",\n",
    "                f\"--dataset={dataset}\",\n",
    "                f\"--machine_type={machine_type}\",\n",
    "                f\"--accelerator_type={accelerator_type}\",\n",
    "                \"--dist-backend=nccl\",\n",
    "                \"--warmup-epochs=1\",\n",
    "                \"--num-epochs=2\",\n",
    "                \"--eval-epochs=1\",\n",
    "            ],\n",
    "            \"env\": [\n",
    "                    {'name': name, 'value': value}\n",
    "                    for name, value in environment_variables.items()\n",
    "            ],\n",
    "        },\n",
    "    },\n",
    "]\n",
    "\n",
    "\n",
    "# Create a custom job\n",
    "job = aiplatform.CustomJob(\n",
    "    display_name=job_name,\n",
    "    worker_pool_specs=worker_pool_specs,\n",
    ")\n",
    "\n",
    "# Launch the job\n",
    "job.run(sync=True)\n",
    "\n",
    "print(f\"Job {job_name} has been launched.\")"
   ]
  },
  {
   "cell_type": "code",
   "execution_count": null,
   "metadata": {},
   "outputs": [
    {
     "name": "stdout",
     "output_type": "stream",
     "text": [
      "['./trainer\\\\', './trainer\\\\dat', './trainer\\\\dat\\\\attack.py', './trainer\\\\dat\\\\cifar_resnet18.py', './trainer\\\\dat\\\\compression', './trainer\\\\dat\\\\compression\\\\sparsification.py', './trainer\\\\dat\\\\compression\\\\__init__.py', './trainer\\\\dat\\\\dataset.py', './trainer\\\\dat\\\\eval.py', './trainer\\\\dat\\\\helpers.py', './trainer\\\\dat\\\\lamb.py', './trainer\\\\dat\\\\main.py', './trainer\\\\dat\\\\models.py', './trainer\\\\dat\\\\quantization.py', './trainer\\\\dat\\\\utils.py', './trainer\\\\dat\\\\wide_resnet.py', './trainer\\\\dat\\\\__init__.py', './trainer\\\\dat\\\\__pycache__', './trainer\\\\dat\\\\__pycache__\\\\attack.cpython-310.pyc', './trainer\\\\dat\\\\__pycache__\\\\dataset.cpython-310.pyc', './trainer\\\\dat\\\\__pycache__\\\\lamb.cpython-310.pyc', './trainer\\\\dat\\\\__pycache__\\\\models.cpython-310.pyc', './trainer\\\\dat\\\\__pycache__\\\\quantization.cpython-310.pyc', './trainer\\\\dat\\\\__pycache__\\\\utils.cpython-310.pyc', './trainer\\\\dat\\\\__pycache__\\\\__init__.cpython-310.pyc', './trainer\\\\task.py', './trainer\\\\__init__.py', './trainer\\\\__pycache__', './trainer\\\\__pycache__\\\\task.cpython-310.pyc', './trainer\\\\__pycache__\\\\__init__.cpython-310.pyc']\n"
     ]
    }
   ],
   "source": [
    "import glob\n",
    "\n",
    "file_path = glob.glob(f'./data/**', recursive=True)\n",
    "print(file_path)\n"
   ]
  },
  {
   "cell_type": "code",
   "execution_count": null,
   "metadata": {},
   "outputs": [],
   "source": []
  },
  {
   "cell_type": "code",
   "execution_count": null,
   "metadata": {},
   "outputs": [],
   "source": []
  }
 ],
 "metadata": {
  "kernelspec": {
   "display_name": "Python 3 (ipykernel)",
   "language": "python",
   "name": "python3"
  },
  "language_info": {
   "codemirror_mode": {
    "name": "ipython",
    "version": 3
   },
   "file_extension": ".py",
   "mimetype": "text/x-python",
   "name": "python",
   "nbconvert_exporter": "python",
   "pygments_lexer": "ipython3",
   "version": "3.10.11"
  }
 },
 "nbformat": 4,
 "nbformat_minor": 2
}
