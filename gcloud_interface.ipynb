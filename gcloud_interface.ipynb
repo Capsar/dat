{
 "cells": [
  {
   "cell_type": "markdown",
   "metadata": {},
   "source": [
    "# Creating & Uploading python distribution\n",
    "https://cloud.google.com/vertex-ai/docs/training/create-python-pre-built-container"
   ]
  },
  {
   "cell_type": "code",
   "execution_count": 4,
   "metadata": {},
   "outputs": [
    {
     "name": "stdout",
     "output_type": "stream",
     "text": [
      "running sdist\r\n",
      "running egg_info\r\n",
      "writing manifest file 'dat_jointspar_trainer.egg-info/SOURCES.txt'\r\n",
      "running check\r\n",
      "warning: check: missing required meta-data: url\r\n",
      "\r\n",
      "warning: check: missing meta-data: either (author and author_email) or (maintainer and maintainer_email) should be supplied\r\n",
      "\r\n",
      "creating dat-jointspar-trainer-0.2\r\n",
      "creating dat-jointspar-trainer-0.2/dat_jointspar_trainer.egg-info\r\n",
      "creating dat-jointspar-trainer-0.2/trainer\r\n",
      "creating dat-jointspar-trainer-0.2/trainer/dat\r\n",
      "creating dat-jointspar-trainer-0.2/trainer/dat/compression\r\n",
      "copying README.md -> dat-jointspar-trainer-0.2\r\n",
      "copying setup.py -> dat-jointspar-trainer-0.2\r\n",
      "copying dat_jointspar_trainer.egg-info/PKG-INFO -> dat-jointspar-trainer-0.2/dat_jointspar_trainer.egg-info\r\n",
      "copying dat_jointspar_trainer.egg-info/SOURCES.txt -> dat-jointspar-trainer-0.2/dat_jointspar_trainer.egg-info\r\n",
      "copying dat_jointspar_trainer.egg-info/dependency_links.txt -> dat-jointspar-trainer-0.2/dat_jointspar_trainer.egg-info\r\n",
      "copying dat_jointspar_trainer.egg-info/requires.txt -> dat-jointspar-trainer-0.2/dat_jointspar_trainer.egg-info\r\n",
      "copying dat_jointspar_trainer.egg-info/top_level.txt -> dat-jointspar-trainer-0.2/dat_jointspar_trainer.egg-info\r\n",
      "copying trainer/__init__.py -> dat-jointspar-trainer-0.2/trainer\r\n",
      "copying trainer/task.py -> dat-jointspar-trainer-0.2/trainer\r\n",
      "copying trainer/dat/__init__.py -> dat-jointspar-trainer-0.2/trainer/dat\r\n",
      "copying trainer/dat/attack.py -> dat-jointspar-trainer-0.2/trainer/dat\r\n",
      "copying trainer/dat/cifar_resnet18.py -> dat-jointspar-trainer-0.2/trainer/dat\r\n",
      "copying trainer/dat/dataset.py -> dat-jointspar-trainer-0.2/trainer/dat\r\n",
      "copying trainer/dat/eval.py -> dat-jointspar-trainer-0.2/trainer/dat\r\n",
      "copying trainer/dat/helpers.py -> dat-jointspar-trainer-0.2/trainer/dat\r\n",
      "copying trainer/dat/jointspar.py -> dat-jointspar-trainer-0.2/trainer/dat\r\n",
      "copying trainer/dat/lamb.py -> dat-jointspar-trainer-0.2/trainer/dat\r\n",
      "copying trainer/dat/main.py -> dat-jointspar-trainer-0.2/trainer/dat\r\n",
      "copying trainer/dat/models.py -> dat-jointspar-trainer-0.2/trainer/dat\r\n",
      "copying trainer/dat/params.py -> dat-jointspar-trainer-0.2/trainer/dat\r\n",
      "copying trainer/dat/quantization.py -> dat-jointspar-trainer-0.2/trainer/dat\r\n",
      "copying trainer/dat/utils.py -> dat-jointspar-trainer-0.2/trainer/dat\r\n",
      "copying trainer/dat/visualization.py -> dat-jointspar-trainer-0.2/trainer/dat\r\n",
      "copying trainer/dat/wide_resnet.py -> dat-jointspar-trainer-0.2/trainer/dat\r\n",
      "copying trainer/dat/compression/__init__.py -> dat-jointspar-trainer-0.2/trainer/dat/compression\r\n",
      "copying trainer/dat/compression/sparsification.py -> dat-jointspar-trainer-0.2/trainer/dat/compression\r\n",
      "Creating tar archive\r\n",
      "removing 'dat-jointspar-trainer-0.2' (and everything under it)\r\n"
     ]
    }
   ],
   "source": [
    "!python setup.py sdist"
   ]
  },
  {
   "cell_type": "code",
   "execution_count": 5,
   "metadata": {},
   "outputs": [
    {
     "name": "stdout",
     "output_type": "stream",
     "text": [
      "Copying file://dist/dat-jointspar-trainer-0.2.tar.gz [Content-Type=application/x-tar]...\n",
      "- [1 files][ 22.4 KiB/ 22.4 KiB]                                                \n",
      "Operation completed over 1 objects/22.4 KiB.                                     \n"
     ]
    }
   ],
   "source": [
    "#!gcloud storage cp dist/dat_package-0.1.tar.gz gs://dat-package-bucket\n",
    "!gsutil cp dist/dat-jointspar-trainer-0.2.tar.gz gs://dat-project-bucket/dat-package/"
   ]
  },
  {
   "cell_type": "markdown",
   "metadata": {},
   "source": [
    "# Creating CustomJob\n",
    "https://cloud.google.com/vertex-ai/docs/training/create-custom-job#create_custom_job-gcloud"
   ]
  },
  {
   "cell_type": "markdown",
   "metadata": {},
   "source": [
    "# Operationalize Distributed Training with PyTorch on Google Cloud\n",
    "https://www.youtube.com/watch?v=kXbDEmn2XOw\n",
    "\n",
    "Pre-built-containers:\n",
    "https://cloud.google.com/vertex-ai/docs/training/pre-built-containers#pytorch\n",
    "\n",
    "GPUs:\n",
    "https://cloud.google.com/compute/docs/gpus\n",
    "https://cloud.google.com/compute/gpus-pricing\n",
    "https://cloud.google.com/vertex-ai/docs/training/configure-compute#gpu-compatibility-table"
   ]
  },
  {
   "cell_type": "code",
   "execution_count": null,
   "metadata": {},
   "outputs": [],
   "source": [
    "#!pip install google-cloud-aiplatform"
   ]
  },
  {
   "cell_type": "code",
   "execution_count": null,
   "metadata": {},
   "outputs": [],
   "source": [
    "# !pip install python-dotenv"
   ]
  },
  {
   "cell_type": "code",
   "execution_count": null,
   "metadata": {},
   "outputs": [
    {
     "name": "stdout",
     "output_type": "stream",
     "text": [
      "Creating CustomJob\n",
      "CustomJob created. Resource name: projects/65830871515/locations/us-central1/customJobs/7413907812608114688\n",
      "To use this CustomJob in another session:\n",
      "custom_job = aiplatform.CustomJob.get('projects/65830871515/locations/us-central1/customJobs/7413907812608114688')\n",
      "View Custom Job:\n",
      "https://console.cloud.google.com/ai/platform/locations/us-central1/training/7413907812608114688?project=65830871515\n"
     ]
    }
   ],
   "source": [
    "import os\n",
    "import datetime\n",
    "\n",
    "from google.cloud import aiplatform\n",
    "from dotenv import load_dotenv\n",
    "\n",
    "load_dotenv()\n",
    "\n",
    "project_id = 'sdml-dat'\n",
    "region = 'us-central1'\n",
    "bucket_name = 'dat-project-bucket'\n",
    "package_uri = f'gs://{bucket_name}/dat-package/dat-jointspar-trainer-0.2.tar.gz'\n",
    "\n",
    "# Initialize Vertex AI SDK\n",
    "aiplatform.init(project=project_id, location=region, staging_bucket=bucket_name)\n",
    "\n",
    "# Define job name\n",
    "job_name = 'dat-jointspar-storage-test-not-sending-gradients'\n",
    "\n",
    "machine_type = 'n1-standard-4' # 4 vCPUs, 26 GB RAM\n",
    "accelerator_type = 'NVIDIA_TESLA_P100' # 16 GB RAM\n",
    "accelerator_count = 1\n",
    "replica_count = 7 # Keep in mind that total number of nodes is replica_count + 1\n",
    "dataset='cifarext'\n",
    "batch_size=2048\n",
    "warmup_epochs=0 #5\n",
    "training_epochs=3 #100\n",
    "using_jointspar=True\n",
    "\n",
    "warmup_suffix = ''\n",
    "if warmup_epochs == 0:\n",
    "    warmup_suffix = '-no-warmup'\n",
    "job_name = f'{job_name}{warmup_suffix}'\n",
    "\n",
    "group_surfix = f'{datetime.datetime.now().strftime(\"%m-%d-%H-%M\")}'\n",
    "TELEGRAM_API_KEY = os.getenv('TELEGRAM_API_KEY')\n",
    "TELEGRAM_CHAT_ID = os.getenv('TELEGRAM_CHAT_ID')\n",
    "WANDB_API_KEY = os.getenv('WANDB_API_KEY')\n",
    "\n",
    "if TELEGRAM_API_KEY is None or TELEGRAM_CHAT_ID is None or WANDB_API_KEY is None:\n",
    "    raise ValueError('Missing either TELEGRAM or WANDB API KEY')\n",
    "\n",
    "environment_variables = {\n",
    "    'TELEGRAM_API_KEY': TELEGRAM_API_KEY,\n",
    "    'TELEGRAM_CHAT_ID': TELEGRAM_CHAT_ID,\n",
    "    'WANDB_API_KEY': WANDB_API_KEY,\n",
    "}\n",
    "\n",
    "# Define worker pool spec\n",
    "worker_pool_specs =  [\n",
    "    {\n",
    "        \"machine_spec\": {\n",
    "            \"machine_type\": machine_type,\n",
    "            \"accelerator_type\": accelerator_type,\n",
    "            \"accelerator_count\": accelerator_count,\n",
    "        },\n",
    "        \"replica_count\": 1,  # Number of masters\n",
    "        \"python_package_spec\": {\n",
    "            \"executor_image_uri\": \"europe-docker.pkg.dev/vertex-ai/training/pytorch-gpu.1-13.py310:latest\",\n",
    "            \"package_uris\": [package_uri],\n",
    "            \"python_module\": \"trainer.task\",\n",
    "            \"args\": [\n",
    "                \"--gcloud=True\",\n",
    "                \"--dataset-path=/gcs/dat-project-bucket/datasets/\",\n",
    "                \"--output-dir=/gcs/dat-project-bucket/dat-outputs/\",\n",
    "                f\"--batch-size={batch_size}\",\n",
    "                f\"--group_surfix={group_surfix}\",\n",
    "                f\"--dataset={dataset}\",\n",
    "                f\"--machine_type={machine_type}\",\n",
    "                f\"--accelerator_type={accelerator_type}\",\n",
    "                \"--dist-backend=nccl\",\n",
    "                f\"--warmup-epochs={warmup_epochs}\",\n",
    "                f\"--num-epochs={training_epochs}\",\n",
    "                \"--eval-epochs=0\",\n",
    "                f'--jointspar={using_jointspar}',\n",
    "            ],\n",
    "            \"env\": [\n",
    "                    {'name': name, 'value': value}\n",
    "                    for name, value in environment_variables.items()\n",
    "            ],\n",
    "        },\n",
    "    }\n",
    "    ,\n",
    "    {\n",
    "        \"machine_spec\": {\n",
    "            \"machine_type\": machine_type,\n",
    "            \"accelerator_type\": accelerator_type,\n",
    "            \"accelerator_count\": accelerator_count,\n",
    "        },\n",
    "        \"replica_count\": replica_count,  # Number of workers\n",
    "        \"python_package_spec\": {\n",
    "            \"executor_image_uri\": \"europe-docker.pkg.dev/vertex-ai/training/pytorch-gpu.1-13.py310:latest\",\n",
    "            \"package_uris\": [package_uri],\n",
    "            \"python_module\": \"trainer.task\",\n",
    "            \"args\": [\n",
    "                \"--gcloud=True\",\n",
    "                \"--dataset-path=/gcs/dat-project-bucket/datasets/\",\n",
    "                \"--output-dir=/gcs/dat-project-bucket/dat-outputs/\",\n",
    "                f\"--batch-size={batch_size}\",\n",
    "                f\"--group_surfix={group_surfix}\",\n",
    "                f\"--dataset={dataset}\",\n",
    "                f\"--machine_type={machine_type}\",\n",
    "                f\"--accelerator_type={accelerator_type}\",\n",
    "                \"--dist-backend=nccl\",\n",
    "                f\"--warmup-epochs={warmup_epochs}\",\n",
    "                f\"--num-epochs={training_epochs}\",\n",
    "                \"--eval-epochs=0\",\n",
    "                f'--jointspar={using_jointspar}',\n",
    "            ],\n",
    "            \"env\": [\n",
    "                    {'name': name, 'value': value}\n",
    "                    for name, value in environment_variables.items()\n",
    "            ],\n",
    "        },\n",
    "    },\n",
    "]\n",
    "\n",
    "\n",
    "# Create a custom job\n",
    "job = aiplatform.CustomJob(\n",
    "    display_name=job_name,\n",
    "    worker_pool_specs=worker_pool_specs,\n",
    ")\n",
    "\n",
    "# Launch the job\n",
    "job.run(sync=True)\n",
    "\n",
    "print(f\"Job {job_name} has been launched.\")"
   ]
  },
  {
   "cell_type": "markdown",
   "metadata": {},
   "source": [
    "# Download profiler-logs from google drive to data folder"
   ]
  },
  {
   "cell_type": "code",
   "execution_count": null,
   "metadata": {},
   "outputs": [],
   "source": [
    "#!gsutil -m cp -r \"gs://dat-project-bucket/dat-outputs/profiler_logs/n1-standard-4_3_NVIDIA_TESLA_K80_1_cifar_1024_05-30-22-59\" ./data/"
   ]
  },
  {
   "cell_type": "code",
   "execution_count": null,
   "metadata": {},
   "outputs": [],
   "source": []
  },
  {
   "cell_type": "code",
   "execution_count": null,
   "metadata": {},
   "outputs": [],
   "source": []
  }
 ],
 "metadata": {
  "kernelspec": {
   "display_name": "Python 3 (ipykernel)",
   "language": "python",
   "name": "python3"
  },
  "language_info": {
   "codemirror_mode": {
    "name": "ipython",
    "version": 3
   },
   "file_extension": ".py",
   "mimetype": "text/x-python",
   "name": "python",
   "nbconvert_exporter": "python",
   "pygments_lexer": "ipython3",
   "version": "3.9.15"
  }
 },
 "nbformat": 4,
 "nbformat_minor": 2
}
