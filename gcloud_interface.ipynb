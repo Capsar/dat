{
 "cells": [
  {
   "attachments": {},
   "cell_type": "markdown",
   "metadata": {},
   "source": [
    "# Creating & Uploading python distribution\n",
    "https://cloud.google.com/vertex-ai/docs/training/create-python-pre-built-container"
   ]
  },
  {
   "cell_type": "code",
   "execution_count": null,
   "metadata": {},
   "outputs": [],
   "source": [
    "!python setup.py sdist"
   ]
  },
  {
   "cell_type": "code",
   "execution_count": null,
   "metadata": {},
   "outputs": [],
   "source": [
    "#!gcloud storage cp dist/dat_package-0.1.tar.gz gs://dat-package-bucket\n",
    "!gsutil cp dist/dat_package-0.1.tar.gz gs://dat-project-bucket/dat-package/"
   ]
  },
  {
   "attachments": {},
   "cell_type": "markdown",
   "metadata": {},
   "source": [
    "# Creating CustomJob\n",
    "https://cloud.google.com/vertex-ai/docs/training/create-custom-job#create_custom_job-gcloud"
   ]
  },
  {
   "attachments": {},
   "cell_type": "markdown",
   "metadata": {},
   "source": [
    "# Operationalize Distributed Training with PyTorch on Google Cloud\n",
    "https://www.youtube.com/watch?v=kXbDEmn2XOw\n",
    "\n",
    "\n",
    "Pre-built-containers:\n",
    "https://cloud.google.com/vertex-ai/docs/training/pre-built-containers#pytorch\n",
    "\n",
    "GPUs:\n",
    "https://cloud.google.com/compute/docs/gpus\n",
    "https://cloud.google.com/compute/gpus-pricing\n",
    "https://cloud.google.com/vertex-ai/docs/training/configure-compute#gpu-compatibility-table"
   ]
  },
  {
   "cell_type": "code",
   "execution_count": null,
   "metadata": {},
   "outputs": [],
   "source": [
    "#!pip install google-cloud-aiplatform"
   ]
  },
  {
   "cell_type": "code",
   "execution_count": 27,
   "metadata": {},
   "outputs": [
    {
     "name": "stdout",
     "output_type": "stream",
     "text": [
      "Creating CustomJob\n",
      "CustomJob created. Resource name: projects/65830871515/locations/us-central1/customJobs/8410864692326563840\n",
      "To use this CustomJob in another session:\n",
      "custom_job = aiplatform.CustomJob.get('projects/65830871515/locations/us-central1/customJobs/8410864692326563840')\n",
      "View Custom Job:\n",
      "https://console.cloud.google.com/ai/platform/locations/us-central1/training/8410864692326563840?project=65830871515\n",
      "CustomJob projects/65830871515/locations/us-central1/customJobs/8410864692326563840 current state:\n",
      "JobState.JOB_STATE_PENDING\n",
      "CustomJob projects/65830871515/locations/us-central1/customJobs/8410864692326563840 current state:\n",
      "JobState.JOB_STATE_PENDING\n",
      "CustomJob projects/65830871515/locations/us-central1/customJobs/8410864692326563840 current state:\n",
      "JobState.JOB_STATE_PENDING\n",
      "CustomJob projects/65830871515/locations/us-central1/customJobs/8410864692326563840 current state:\n",
      "JobState.JOB_STATE_PENDING\n",
      "CustomJob projects/65830871515/locations/us-central1/customJobs/8410864692326563840 current state:\n",
      "JobState.JOB_STATE_PENDING\n",
      "CustomJob projects/65830871515/locations/us-central1/customJobs/8410864692326563840 current state:\n",
      "JobState.JOB_STATE_PENDING\n",
      "CustomJob projects/65830871515/locations/us-central1/customJobs/8410864692326563840 current state:\n",
      "JobState.JOB_STATE_PENDING\n",
      "CustomJob projects/65830871515/locations/us-central1/customJobs/8410864692326563840 current state:\n",
      "JobState.JOB_STATE_PENDING\n",
      "CustomJob projects/65830871515/locations/us-central1/customJobs/8410864692326563840 current state:\n",
      "JobState.JOB_STATE_PENDING\n",
      "CustomJob projects/65830871515/locations/us-central1/customJobs/8410864692326563840 current state:\n",
      "JobState.JOB_STATE_PENDING\n",
      "CustomJob projects/65830871515/locations/us-central1/customJobs/8410864692326563840 current state:\n",
      "JobState.JOB_STATE_PENDING\n",
      "CustomJob projects/65830871515/locations/us-central1/customJobs/8410864692326563840 current state:\n",
      "JobState.JOB_STATE_PENDING\n",
      "CustomJob projects/65830871515/locations/us-central1/customJobs/8410864692326563840 current state:\n",
      "JobState.JOB_STATE_PENDING\n",
      "CustomJob projects/65830871515/locations/us-central1/customJobs/8410864692326563840 current state:\n",
      "JobState.JOB_STATE_PENDING\n",
      "CustomJob projects/65830871515/locations/us-central1/customJobs/8410864692326563840 current state:\n",
      "JobState.JOB_STATE_PENDING\n",
      "CustomJob projects/65830871515/locations/us-central1/customJobs/8410864692326563840 current state:\n",
      "JobState.JOB_STATE_PENDING\n",
      "CustomJob projects/65830871515/locations/us-central1/customJobs/8410864692326563840 current state:\n",
      "JobState.JOB_STATE_PENDING\n",
      "CustomJob projects/65830871515/locations/us-central1/customJobs/8410864692326563840 current state:\n",
      "JobState.JOB_STATE_PENDING\n",
      "CustomJob projects/65830871515/locations/us-central1/customJobs/8410864692326563840 current state:\n",
      "JobState.JOB_STATE_PENDING\n",
      "CustomJob projects/65830871515/locations/us-central1/customJobs/8410864692326563840 current state:\n",
      "JobState.JOB_STATE_PENDING\n",
      "CustomJob projects/65830871515/locations/us-central1/customJobs/8410864692326563840 current state:\n",
      "JobState.JOB_STATE_PENDING\n",
      "CustomJob projects/65830871515/locations/us-central1/customJobs/8410864692326563840 current state:\n",
      "JobState.JOB_STATE_PENDING\n",
      "CustomJob projects/65830871515/locations/us-central1/customJobs/8410864692326563840 current state:\n",
      "JobState.JOB_STATE_PENDING\n",
      "CustomJob projects/65830871515/locations/us-central1/customJobs/8410864692326563840 current state:\n",
      "JobState.JOB_STATE_PENDING\n",
      "CustomJob projects/65830871515/locations/us-central1/customJobs/8410864692326563840 current state:\n",
      "JobState.JOB_STATE_PENDING\n",
      "CustomJob projects/65830871515/locations/us-central1/customJobs/8410864692326563840 current state:\n",
      "JobState.JOB_STATE_PENDING\n",
      "CustomJob projects/65830871515/locations/us-central1/customJobs/8410864692326563840 current state:\n",
      "JobState.JOB_STATE_PENDING\n",
      "CustomJob projects/65830871515/locations/us-central1/customJobs/8410864692326563840 current state:\n",
      "JobState.JOB_STATE_PENDING\n",
      "CustomJob projects/65830871515/locations/us-central1/customJobs/8410864692326563840 current state:\n",
      "JobState.JOB_STATE_PENDING\n",
      "CustomJob projects/65830871515/locations/us-central1/customJobs/8410864692326563840 current state:\n",
      "JobState.JOB_STATE_PENDING\n",
      "CustomJob projects/65830871515/locations/us-central1/customJobs/8410864692326563840 current state:\n",
      "JobState.JOB_STATE_PENDING\n",
      "CustomJob projects/65830871515/locations/us-central1/customJobs/8410864692326563840 current state:\n",
      "JobState.JOB_STATE_PENDING\n",
      "CustomJob projects/65830871515/locations/us-central1/customJobs/8410864692326563840 current state:\n",
      "JobState.JOB_STATE_PENDING\n",
      "CustomJob projects/65830871515/locations/us-central1/customJobs/8410864692326563840 current state:\n",
      "JobState.JOB_STATE_PENDING\n",
      "CustomJob projects/65830871515/locations/us-central1/customJobs/8410864692326563840 current state:\n",
      "JobState.JOB_STATE_PENDING\n",
      "CustomJob projects/65830871515/locations/us-central1/customJobs/8410864692326563840 current state:\n",
      "JobState.JOB_STATE_PENDING\n",
      "CustomJob projects/65830871515/locations/us-central1/customJobs/8410864692326563840 current state:\n",
      "JobState.JOB_STATE_PENDING\n",
      "CustomJob projects/65830871515/locations/us-central1/customJobs/8410864692326563840 current state:\n",
      "JobState.JOB_STATE_PENDING\n",
      "CustomJob projects/65830871515/locations/us-central1/customJobs/8410864692326563840 current state:\n",
      "JobState.JOB_STATE_PENDING\n",
      "CustomJob projects/65830871515/locations/us-central1/customJobs/8410864692326563840 current state:\n",
      "JobState.JOB_STATE_PENDING\n"
     ]
    }
   ],
   "source": [
    "from google.cloud import aiplatform\n",
    "from google.cloud.aiplatform_v1.types import job_state\n",
    "from google.cloud.aiplatform_v1 import types\n",
    "from google.protobuf import json_format\n",
    "\n",
    "project_id = 'sdml-dat'\n",
    "region = 'us-central1' #TODO: change to better region\n",
    "bucket_name = 'dat-project-bucket'\n",
    "package_uri = f'gs://{bucket_name}/dat-package/dat_package-0.1.tar.gz'\n",
    "\n",
    "# Initialize Vertex AI SDK\n",
    "aiplatform.init(project=project_id, location=region, staging_bucket=bucket_name)\n",
    "\n",
    "# Define worker pool spec\n",
    "worker_pool_specs =  [\n",
    "    {\n",
    "        \"machine_spec\": {\n",
    "            \"machine_type\": \"n1-standard-4\",\n",
    "        },\n",
    "        \"replica_count\": 1,  # Number of masters\n",
    "        \"python_package_spec\": {\n",
    "            \"executor_image_uri\": \"europe-docker.pkg.dev/vertex-ai/training/pytorch-gpu.1-13.py310:latest\",\n",
    "            \"package_uris\": [package_uri],\n",
    "            \"python_module\": \"dat_package\",\n",
    "            \"args\": [],\n",
    "        },\n",
    "    }\n",
    "    # ,\n",
    "    # {\n",
    "    #     \"machine_spec\": {\n",
    "    #         \"machine_type\": \"n1-standard-4\",\n",
    "    #         \"accelerator_type\": \"NVIDIA_TESLA_K80\",\n",
    "    #         \"accelerator_count\": 1,\n",
    "    #     },\n",
    "    #     \"replica_count\": 2,  # Number of workers\n",
    "    #     \"python_package_spec\": {\n",
    "    #         \"executor_image_uri\": \"europe-docker.pkg.dev/vertex-ai/training/pytorch-gpu.1-13.py310:latest\",\n",
    "    #         \"package_uris\": [package_uri],\n",
    "    #         \"python_module\": \"dat_package\",\n",
    "    #         \"args\": [],\n",
    "    #     },\n",
    "    # },\n",
    "]\n",
    "\n",
    "# Define job name\n",
    "job_name = 'dat-custom-pytorch-job'\n",
    "\n",
    "# Create a custom job\n",
    "job = aiplatform.CustomJob(\n",
    "    display_name=job_name,\n",
    "    worker_pool_specs=worker_pool_specs,\n",
    ")\n",
    "\n",
    "# Launch the job\n",
    "job.run(sync=True)\n",
    "\n",
    "print(f\"Job {job_name} has been launched.\")"
   ]
  },
  {
   "cell_type": "code",
   "execution_count": null,
   "metadata": {},
   "outputs": [],
   "source": []
  },
  {
   "cell_type": "code",
   "execution_count": null,
   "metadata": {},
   "outputs": [],
   "source": []
  },
  {
   "cell_type": "code",
   "execution_count": null,
   "metadata": {},
   "outputs": [],
   "source": []
  }
 ],
 "metadata": {
  "kernelspec": {
   "display_name": "seminar_dml_dat",
   "language": "python",
   "name": "python3"
  },
  "language_info": {
   "codemirror_mode": {
    "name": "ipython",
    "version": 3
   },
   "file_extension": ".py",
   "mimetype": "text/x-python",
   "name": "python",
   "nbconvert_exporter": "python",
   "pygments_lexer": "ipython3",
   "version": "3.10.11"
  },
  "orig_nbformat": 4
 },
 "nbformat": 4,
 "nbformat_minor": 2
}
