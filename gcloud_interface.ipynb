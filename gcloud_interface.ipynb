{
 "cells": [
  {
   "attachments": {},
   "cell_type": "markdown",
   "metadata": {},
   "source": [
    "# Creating & Uploading python distribution\n",
    "https://cloud.google.com/vertex-ai/docs/training/create-python-pre-built-container"
   ]
  },
  {
   "cell_type": "code",
   "execution_count": null,
   "metadata": {},
   "outputs": [],
   "source": [
    "!python setup.py sdist"
   ]
  },
  {
   "cell_type": "code",
   "execution_count": null,
   "metadata": {},
   "outputs": [],
   "source": [
    "#!gcloud storage cp dist/dat_package-0.1.tar.gz gs://dat-package-bucket\n",
    "!gsutil cp dist/dat-profiler-trainer-0.1.tar.gz gs://dat-project-bucket/dat-package/"
   ]
  },
  {
   "attachments": {},
   "cell_type": "markdown",
   "metadata": {},
   "source": [
    "# Creating CustomJob\n",
    "https://cloud.google.com/vertex-ai/docs/training/create-custom-job#create_custom_job-gcloud"
   ]
  },
  {
   "attachments": {},
   "cell_type": "markdown",
   "metadata": {},
   "source": [
    "# Operationalize Distributed Training with PyTorch on Google Cloud\n",
    "https://www.youtube.com/watch?v=kXbDEmn2XOw\n",
    "\n",
    "Pre-built-containers:\n",
    "https://cloud.google.com/vertex-ai/docs/training/pre-built-containers#pytorch\n",
    "\n",
    "GPUs:\n",
    "https://cloud.google.com/compute/docs/gpus\n",
    "https://cloud.google.com/compute/gpus-pricing\n",
    "https://cloud.google.com/vertex-ai/docs/training/configure-compute#gpu-compatibility-table"
   ]
  },
  {
   "cell_type": "code",
   "execution_count": null,
   "metadata": {},
   "outputs": [],
   "source": [
    "#!pip install google-cloud-aiplatform"
   ]
  },
  {
   "cell_type": "code",
   "execution_count": null,
   "metadata": {},
   "outputs": [],
   "source": [
    "# !pip install python-dotenv"
   ]
  },
  {
   "cell_type": "code",
   "execution_count": null,
   "metadata": {},
   "outputs": [],
   "source": [
    "import os\n",
    "import datetime\n",
    "\n",
    "from google.cloud import aiplatform\n",
    "from dotenv import load_dotenv\n",
    "\n",
    "load_dotenv()\n",
    "\n",
    "project_id = 'sdml-dat'\n",
    "region = 'us-central1'\n",
    "bucket_name = 'dat-project-bucket'\n",
    "package_uri = f'gs://{bucket_name}/dat-package/dat-profiler-trainer-0.1.tar.gz'\n",
    "\n",
    "# Initialize Vertex AI SDK\n",
    "aiplatform.init(project=project_id, location=region, staging_bucket=bucket_name)\n",
    "\n",
    "# Define job name\n",
    "job_name = 'dat-custom-profiler-pytorch-job-chip'\n",
    "\n",
    "machine_type = 'n1-standard-4'\n",
    "accelerator_type = 'NVIDIA_TESLA_K80'\n",
    "accelerator_count = 1\n",
    "replica_count = 2\n",
    "dataset='cifar'\n",
    "batch_size=1024\n",
    "group_surfix = f'{datetime.datetime.now().strftime(\"%m-%d-%H-%M\")}'\n",
    "TELEGRAM_API_KEY = os.getenv('TELEGRAM_API_KEY')\n",
    "TELEGRAM_CHAT_ID = os.getenv('TELEGRAM_CHAT_ID')\n",
    "WANDB_API_KEY = os.getenv('WANDB_API_KEY')\n",
    "\n",
    "if TELEGRAM_API_KEY is None or TELEGRAM_CHAT_ID is None or WANDB_API_KEY is None:\n",
    "    raise ValueError('Missing either TELEGRAM or WANDB API KEY')\n",
    "\n",
    "environment_variables = {\n",
    "    'TELEGRAM_API_KEY': TELEGRAM_API_KEY,\n",
    "    'TELEGRAM_CHAT_ID': TELEGRAM_CHAT_ID,\n",
    "    'WANDB_API_KEY': WANDB_API_KEY,\n",
    "}\n",
    "\n",
    "# Define worker pool spec\n",
    "worker_pool_specs =  [\n",
    "    {\n",
    "        \"machine_spec\": {\n",
    "            \"machine_type\": machine_type,\n",
    "            \"accelerator_type\": accelerator_type,\n",
    "            \"accelerator_count\": accelerator_count,\n",
    "        },\n",
    "        \"replica_count\": 1,  # Number of masters\n",
    "        \"python_package_spec\": {\n",
    "            \"executor_image_uri\": \"europe-docker.pkg.dev/vertex-ai/training/pytorch-gpu.1-13.py310:latest\",\n",
    "            \"package_uris\": [package_uri],\n",
    "            \"python_module\": \"trainer.task\",\n",
    "            \"args\": [\n",
    "                \"--gcloud=True\",\n",
    "                \"--dataset-path=/gcs/dat-project-bucket/datasets/\",\n",
    "                \"--output-dir=/gcs/dat-project-bucket/dat-outputs/\",\n",
    "                f\"--batch-size={batch_size}\",\n",
    "                f\"--group_surfix={group_surfix}\",\n",
    "                f\"--dataset={dataset}\",\n",
    "                f\"--machine_type={machine_type}\",\n",
    "                f\"--accelerator_type={accelerator_type}\",\n",
    "                \"--dist-backend=nccl\",\n",
    "                \"--warmup-epochs=1\",\n",
    "                \"--num-epochs=2\",\n",
    "                \"--eval-epochs=1\",\n",
    "            ],\n",
    "            \"env\": [\n",
    "                    {'name': name, 'value': value}\n",
    "                    for name, value in environment_variables.items()\n",
    "            ],\n",
    "        },\n",
    "    }\n",
    "    ,\n",
    "    {\n",
    "        \"machine_spec\": {\n",
    "            \"machine_type\": machine_type,\n",
    "            \"accelerator_type\": accelerator_type,\n",
    "            \"accelerator_count\": accelerator_count,\n",
    "        },\n",
    "        \"replica_count\": replica_count,  # Number of workers\n",
    "        \"python_package_spec\": {\n",
    "            \"executor_image_uri\": \"europe-docker.pkg.dev/vertex-ai/training/pytorch-gpu.1-13.py310:latest\",\n",
    "            \"package_uris\": [package_uri],\n",
    "            \"python_module\": \"trainer.task\",\n",
    "            \"args\": [\n",
    "                \"--gcloud=True\",\n",
    "                \"--dataset-path=/gcs/dat-project-bucket/datasets/\",\n",
    "                \"--output-dir=/gcs/dat-project-bucket/dat-outputs/\",\n",
    "                f\"--batch-size={batch_size}\",\n",
    "                f\"--group_surfix={group_surfix}\",\n",
    "                f\"--dataset={dataset}\",\n",
    "                f\"--machine_type={machine_type}\",\n",
    "                f\"--accelerator_type={accelerator_type}\",\n",
    "                \"--dist-backend=nccl\",\n",
    "                \"--warmup-epochs=1\",\n",
    "                \"--num-epochs=2\",\n",
    "                \"--eval-epochs=1\",\n",
    "            ],\n",
    "            \"env\": [\n",
    "                    {'name': name, 'value': value}\n",
    "                    for name, value in environment_variables.items()\n",
    "            ],\n",
    "        },\n",
    "    },\n",
    "]\n",
    "\n",
    "\n",
    "# Create a custom job\n",
    "job = aiplatform.CustomJob(\n",
    "    display_name=job_name,\n",
    "    worker_pool_specs=worker_pool_specs,\n",
    ")\n",
    "\n",
    "# Launch the job\n",
    "job.run(sync=False)\n",
    "\n",
    "print(f\"Job {job_name} has been launched.\")"
   ]
  },
  {
   "attachments": {},
   "cell_type": "markdown",
   "metadata": {},
   "source": [
    "# Download profiler-logs from google drive to data folder"
   ]
  },
  {
   "cell_type": "code",
   "execution_count": null,
   "metadata": {},
   "outputs": [],
   "source": [
    "#!gsutil -m cp -r \"gs://dat-project-bucket/dat-outputs/profiler_logs/n1-standard-4_3_NVIDIA_TESLA_K80_1_cifar_1024_05-30-22-59\" ./data/"
   ]
  },
  {
   "cell_type": "code",
   "execution_count": null,
   "metadata": {},
   "outputs": [],
   "source": []
  },
  {
   "cell_type": "code",
   "execution_count": null,
   "metadata": {},
   "outputs": [],
   "source": []
  }
 ],
 "metadata": {
  "kernelspec": {
   "display_name": "Python 3 (ipykernel)",
   "language": "python",
   "name": "python3"
  },
  "language_info": {
   "codemirror_mode": {
    "name": "ipython",
    "version": 3
   },
   "file_extension": ".py",
   "mimetype": "text/x-python",
   "name": "python",
   "nbconvert_exporter": "python",
   "pygments_lexer": "ipython3",
   "version": "3.10.11"
  }
 },
 "nbformat": 4,
 "nbformat_minor": 2
}
